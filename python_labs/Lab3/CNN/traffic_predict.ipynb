{
 "cells": [
  {
   "cell_type": "markdown",
   "source": [
    "# 加载数据集\n",
    "路径:C:\\Users\\Administrator\\Desktop\\college\\junior2\\工业大数据\\实验\\lab1\\data\\all_data_ct_10M.h5"
   ],
   "metadata": {
    "collapsed": false
   },
   "id": "fbd1dc9d307e7027"
  },
  {
   "cell_type": "code",
   "source": [
    "import os.path\n",
    "\n",
    "data_path = 'C:\\\\Users\\\\Administrator\\\\Desktop\\\\college\\\\junior2\\\\工业大数据\\\\实验\\\\lab1\\\\data\\\\all_data_ct_10M.h5'\n",
    "\n",
    "from h5Reader.readHdf5 import readH5\n",
    "\n",
    "data,idx = readH5(data_path,datasets=['data','idx'])"
   ],
   "metadata": {
    "collapsed": false,
    "ExecuteTime": {
     "end_time": "2024-04-29T13:20:08.253841Z",
     "start_time": "2024-04-29T13:19:07.739384Z"
    }
   },
   "id": "95f774dfb118d892",
   "outputs": [],
   "execution_count": 1
  },
  {
   "cell_type": "markdown",
   "source": [
    "# 获取数据集原始形状\n",
    "8928*10000*5"
   ],
   "metadata": {
    "collapsed": false
   },
   "id": "41b221fa2bd3b101"
  },
  {
   "cell_type": "code",
   "source": [
    "# 原始数据集\n",
    "data_shape = data.shape\n",
    "num_timePoints = data_shape[0]\n",
    "num_districts = data_shape[1]\n",
    "num_business = data_shape[2]\n",
    "\n",
    "print(\"时间点数量:%d,小区数量:%d,流量业务类型数量:%d\" %(num_timePoints,num_districts,num_business))"
   ],
   "metadata": {
    "collapsed": false,
    "ExecuteTime": {
     "end_time": "2024-04-29T13:21:34.112029Z",
     "start_time": "2024-04-29T13:21:34.106694Z"
    }
   },
   "id": "132c926e5e55fb2f",
   "outputs": [
    {
     "name": "stdout",
     "output_type": "stream",
     "text": [
      "时间点数量:8928,小区数量:10000,流量业务类型数量:5\n"
     ]
    }
   ],
   "execution_count": 2
  },
  {
   "metadata": {},
   "cell_type": "markdown",
   "source": [
    "# 根据二维地区索引重塑原始数据集\n",
    "我们要先把(8928,10000,5)的数据集重塑为(8928,100,100,5)的形状\n",
    "坐标映射的方式为：index -> ( index//100,index%100 )"
   ],
   "id": "e200954c995b3dc7"
  },
  {
   "metadata": {
    "ExecuteTime": {
     "end_time": "2024-04-29T13:26:32.239315Z",
     "start_time": "2024-04-29T13:21:37.466321Z"
    }
   },
   "cell_type": "code",
   "source": [
    "import math\n",
    "import numpy as np\n",
    "\n",
    "def cor_map(data_set):\n",
    "    size = int(math.sqrt(num_districts))\n",
    "    \n",
    "    res = np.zeros((num_timePoints,size,size,num_business),dtype=np.float64)\n",
    "    for i in range(num_timePoints):\n",
    "        for j in range(num_districts):\n",
    "            x = j//size\n",
    "            y = j%size\n",
    "            for k in range(num_business):\n",
    "                res[i,x,y,k] = data_set[i,j,k]\n",
    "    \n",
    "    return res\n",
    "\n",
    "data = cor_map(data)\n",
    "\n",
    "def print_dim(data_set):\n",
    "    print(\"时间点数量:%d,行索引数量:%d,列索引数量:%d,流量业务类型数量:%d\" %(data_set.shape[0],data_set.shape[1],data_set.shape[2],data_set.shape[3]))\n",
    "\n",
    "print_dim(data)"
   ],
   "id": "662aa43c4d22d807",
   "outputs": [
    {
     "name": "stdout",
     "output_type": "stream",
     "text": [
      "时间点数量:8928,行索引数量:100,列索引数量:100,流量业务类型数量:5\n"
     ]
    }
   ],
   "execution_count": 3
  },
  {
   "metadata": {},
   "cell_type": "markdown",
   "source": [
    "# 选择划定的区域\n",
    "由于我的机器的硬件上限(内存最多8G)，而以长度为4的滑动窗口加载数据会直接在内存中塞9个G的数据，内存会爆掉。所以我只能改成选定某个区域，进行预测。\n",
    "不过理论上我这个代码是具有可扩展性的，在硬件上限较好的机器上，完全可以选定完整的100*100的区域进行训练和预测"
   ],
   "id": "54e173d3372878ee"
  },
  {
   "metadata": {
    "ExecuteTime": {
     "end_time": "2024-04-29T13:29:09.933236Z",
     "start_time": "2024-04-29T13:29:01.929583Z"
    }
   },
   "cell_type": "code",
   "source": [
    "def select_region(sx,ex,sy,ey,data_set):\n",
    "    m = ex-sx+1\n",
    "    n = ey-sy+1\n",
    "    res = np.zeros((num_timePoints,m,n,num_business),dtype=np.float64)\n",
    "    # print(res.shape)\n",
    "    for i in range(num_timePoints):\n",
    "        for j in range(m):\n",
    "            for k in range(n):\n",
    "                for l in range(num_business):\n",
    "                    res[i,j,k,l] = data_set[i,ex+j,ey+k,l]\n",
    "    return res\n",
    "\n",
    "# 以5045小区为中心\n",
    "start_x = 45\n",
    "end_x = 54\n",
    "start_y = 40\n",
    "end_y = 49\n",
    "\n",
    "len_x = end_x-start_x+1\n",
    "len_y = end_y-start_y+1\n",
    "\n",
    "data = select_region(45,54,40,49,data)\n",
    "print_dim(data)"
   ],
   "id": "6368dc8a59464d4a",
   "outputs": [
    {
     "name": "stdout",
     "output_type": "stream",
     "text": [
      "时间点数量:8928,行索引数量:10,列索引数量:10,流量业务类型数量:5\n"
     ]
    }
   ],
   "execution_count": 4
  },
  {
   "cell_type": "markdown",
   "source": [
    "# 划分数据集\n",
    "按0.7的比重划分，总计8928个时间点，也即8928*0.8=6249.59≈6250条数据"
   ],
   "metadata": {
    "collapsed": false
   },
   "id": "e0fe5975f43337c4"
  },
  {
   "cell_type": "code",
   "source": [
    "seperator_index = int(np.round((num_timePoints*0.7)))\n",
    "#print(seperator_index)\n",
    "\n",
    "train_set = data[0:seperator_index,:,:]\n",
    "test_set = data[seperator_index:num_timePoints,:,:]\n",
    "print(train_set.shape,test_set.shape)"
   ],
   "metadata": {
    "collapsed": false,
    "ExecuteTime": {
     "end_time": "2024-04-29T13:30:10.608841Z",
     "start_time": "2024-04-29T13:30:10.595174Z"
    }
   },
   "id": "2cc63d7791f3950b",
   "outputs": [
    {
     "name": "stdout",
     "output_type": "stream",
     "text": [
      "(6250, 10, 10, 5) (2678, 10, 10, 5)\n"
     ]
    }
   ],
   "execution_count": 5
  },
  {
   "cell_type": "markdown",
   "source": [
    "# 构造输入输出序列\n",
    "CNN希望接收的参数格式: ( batch_size, time_steps, features )\n",
    "放到这个例子中就是( 样本数量, 时间步长, 特征数量 )\n",
    "假设我们的时间序列的滑动窗口大小为4,构建输入输出序列"
   ],
   "metadata": {
    "collapsed": false
   },
   "id": "cb09e9de62a8e4fc"
  },
  {
   "cell_type": "code",
   "source": [
    "def restructure(set, win_size):\n",
    "    x_seq,y_seq = [],[]\n",
    "    shape = set.shape\n",
    "    tps = shape[0]\n",
    "    \n",
    "    for i in range(win_size,tps):\n",
    "        x_seq.append(set[i-win_size:i,:,:,:])\n",
    "        y_seq.append(set[i,:,:,:])\n",
    "    \n",
    "    x_seq = np.array(x_seq)\n",
    "    y_seq = np.array(y_seq)\n",
    "    return x_seq,y_seq\n",
    "\n",
    "window_size = 4\n",
    "X_train,Y_train = restructure(train_set,window_size)\n",
    "X_test,Y_test = restructure(test_set,window_size)"
   ],
   "metadata": {
    "collapsed": false,
    "ExecuteTime": {
     "end_time": "2024-04-29T13:30:15.765723Z",
     "start_time": "2024-04-29T13:30:15.606345Z"
    }
   },
   "id": "8168a4add36c048",
   "outputs": [],
   "execution_count": 6
  },
  {
   "metadata": {},
   "cell_type": "markdown",
   "source": [
    "此时\n",
    "X=(train_tps-window_size,window_size,size,size,train_business)\n",
    "Y=(train_tps-window_size,size,size,train_business)"
   ],
   "id": "8f0b588f3dcde963"
  },
  {
   "metadata": {
    "ExecuteTime": {
     "end_time": "2024-04-29T14:20:47.047008Z",
     "start_time": "2024-04-29T14:20:47.040206Z"
    }
   },
   "cell_type": "code",
   "source": [
    "print(X_train.shape,Y_train.shape)\n",
    "print(X_test.shape,Y_test.shape)\n",
    "print(train_set.shape,test_set.shape)"
   ],
   "id": "b6cf97950cbea92b",
   "outputs": [
    {
     "name": "stdout",
     "output_type": "stream",
     "text": [
      "(6246, 4, 10, 10, 5) (6246, 10, 10, 5)\n",
      "(2674, 4, 10, 10, 5) (2674, 10, 10, 5)\n",
      "(6250, 10, 10, 5) (2678, 10, 10, 5)\n"
     ]
    }
   ],
   "execution_count": 47
  },
  {
   "metadata": {},
   "cell_type": "markdown",
   "source": "# 保存训练集和测试集",
   "id": "2bb35953f2fdf92f"
  },
  {
   "metadata": {
    "ExecuteTime": {
     "end_time": "2024-04-29T14:33:43.294985Z",
     "start_time": "2024-04-29T14:33:40.823583Z"
    }
   },
   "cell_type": "code",
   "source": [
    "import h5py\n",
    "import os\n",
    "def save_data(file_path:str,file_name:str):\n",
    "    with h5py.File(os.path.join(file_path,file_name),'w') as file:\n",
    "        file.create_dataset('X_train',data=X_train)\n",
    "        file.create_dataset('Y_train',data=Y_train)\n",
    "        file.create_dataset('X_test',data=X_test)\n",
    "        file.create_dataset('Y_test',data=Y_test)\n",
    "    \n",
    "start_x_str = str(start_x)\n",
    "end_x_str = str(end_x)\n",
    "start_y_str = str(start_y)\n",
    "end_y_str = str(end_y)\n",
    "\n",
    "file_name_str =  f'Dataset_{start_x_str}_{end_x_str}_{start_y_str}_{end_y_str}.h5'\n",
    "file_path_str = 'D:\\workSpace\\BigDataLabs\\python_labs\\Lab3\\CNN\\data'\n",
    "save_data(file_path_str,file_name_str)"
   ],
   "id": "f25de1e4d9a2358c",
   "outputs": [],
   "execution_count": 50
  },
  {
   "cell_type": "markdown",
   "source": [
    "\n",
    "# 构建CNN网络模型\n",
    "卷积层(32卷积核大小为3)+最大池化层+全连接层+输出层(线性激活函数)"
   ],
   "metadata": {
    "collapsed": false
   },
   "id": "53345b733b769454"
  },
  {
   "cell_type": "code",
   "source": [
    "print(\"窗口大小:%d,lenX:%d,lenY:%d,channel:%d\\n\" %(window_size,len_x,len_y,num_business))\n",
    "\n",
    "import tensorflow as tf\n",
    "from tensorflow.keras.layers import Conv3D, MaxPooling3D, Flatten, Dense\n",
    "\n",
    "input_shape = (window_size,len_x,len_y,num_business)\n",
    "\n",
    "model = tf.keras.Sequential([\n",
    "    # 第一个卷积层，使用32个3D卷积核，大小为3x3x3\n",
    "    Conv3D(32, kernel_size=(3, 3, 3), activation='relu', input_shape=input_shape, padding='same'),\n",
    "    # 池化层，使用2x2x2的池化核，但可能需要调整以避免尺寸问题\n",
    "    MaxPooling3D(pool_size=(2, 2, 2)),\n",
    "    # 第二个卷积层，使用64个3D卷积核\n",
    "    Conv3D(64, kernel_size=(3, 3, 3), activation='relu', padding='same'),\n",
    "    # 另一个池化层，可能需要调整以避免尺寸问题\n",
    "    MaxPooling3D(pool_size=(2, 2, 2)),\n",
    "    # 将3D卷积层的输出展平为1D\n",
    "    Flatten(),\n",
    "    # 一个全连接层\n",
    "    Dense(128, activation='relu'),\n",
    "    # 输出层\n",
    "    Dense(len_x*len_y*num_business),\n",
    "    tf.keras.layers.Reshape((len_x,len_y,num_business))\n",
    "])\n",
    "\n",
    "# 编译模型\n",
    "model.compile(optimizer='adam', loss='mean_squared_error')\n",
    "\n",
    "# 打印模型摘要\n",
    "model.summary()"
   ],
   "metadata": {
    "collapsed": false,
    "ExecuteTime": {
     "end_time": "2024-04-29T14:14:01.938473Z",
     "start_time": "2024-04-29T14:14:01.828414Z"
    }
   },
   "id": "87b743a4db6eae3a",
   "outputs": [
    {
     "name": "stdout",
     "output_type": "stream",
     "text": [
      "窗口大小:4,lenX:10,lenY:10,channel:5\n",
      "\n",
      "Model: \"sequential_20\"\n",
      "_________________________________________________________________\n",
      " Layer (type)                Output Shape              Param #   \n",
      "=================================================================\n",
      " conv3d_4 (Conv3D)           (None, 4, 10, 10, 32)     4352      \n",
      "                                                                 \n",
      " max_pooling3d_4 (MaxPoolin  (None, 2, 5, 5, 32)       0         \n",
      " g3D)                                                            \n",
      "                                                                 \n",
      " conv3d_5 (Conv3D)           (None, 2, 5, 5, 64)       55360     \n",
      "                                                                 \n",
      " max_pooling3d_5 (MaxPoolin  (None, 1, 2, 2, 64)       0         \n",
      " g3D)                                                            \n",
      "                                                                 \n",
      " flatten_13 (Flatten)        (None, 256)               0         \n",
      "                                                                 \n",
      " dense_24 (Dense)            (None, 128)               32896     \n",
      "                                                                 \n",
      " dense_25 (Dense)            (None, 500)               64500     \n",
      "                                                                 \n",
      " reshape_3 (Reshape)         (None, 10, 10, 5)         0         \n",
      "                                                                 \n",
      "=================================================================\n",
      "Total params: 157108 (613.70 KB)\n",
      "Trainable params: 157108 (613.70 KB)\n",
      "Non-trainable params: 0 (0.00 Byte)\n",
      "_________________________________________________________________\n"
     ]
    }
   ],
   "execution_count": 37
  },
  {
   "cell_type": "markdown",
   "source": "# 训练模型",
   "metadata": {
    "collapsed": false
   },
   "id": "c0f0c5add0278f8d"
  },
  {
   "cell_type": "code",
   "source": "history = model.fit(X_train, Y_train, epochs=10, batch_size=32, validation_split=0.2, verbose=1)",
   "metadata": {
    "collapsed": false,
    "ExecuteTime": {
     "end_time": "2024-04-29T14:16:50.591262Z",
     "start_time": "2024-04-29T14:14:05.048507Z"
    }
   },
   "id": "22a79e5a2b866922",
   "outputs": [
    {
     "name": "stdout",
     "output_type": "stream",
     "text": [
      "Epoch 1/10\n",
      "157/157 [==============================] - 17s 98ms/step - loss: 5396.9600 - val_loss: 5028.0093\n",
      "Epoch 2/10\n",
      "157/157 [==============================] - 16s 102ms/step - loss: 1947.1219 - val_loss: 3515.4236\n",
      "Epoch 3/10\n",
      "157/157 [==============================] - 17s 108ms/step - loss: 1675.4535 - val_loss: 3335.3010\n",
      "Epoch 4/10\n",
      "157/157 [==============================] - 18s 115ms/step - loss: 1515.1447 - val_loss: 2657.4463\n",
      "Epoch 5/10\n",
      "157/157 [==============================] - 16s 104ms/step - loss: 1410.1909 - val_loss: 2462.1282\n",
      "Epoch 6/10\n",
      "157/157 [==============================] - 16s 102ms/step - loss: 1340.9238 - val_loss: 2295.0586\n",
      "Epoch 7/10\n",
      "157/157 [==============================] - 16s 103ms/step - loss: 1289.2328 - val_loss: 2344.9722\n",
      "Epoch 8/10\n",
      "157/157 [==============================] - 16s 99ms/step - loss: 1238.3781 - val_loss: 2267.2231\n",
      "Epoch 9/10\n",
      "157/157 [==============================] - 16s 100ms/step - loss: 1203.1755 - val_loss: 2115.3176\n",
      "Epoch 10/10\n",
      "157/157 [==============================] - 17s 108ms/step - loss: 1151.7004 - val_loss: 2068.9636\n"
     ]
    }
   ],
   "execution_count": 38
  },
  {
   "metadata": {},
   "cell_type": "markdown",
   "source": [
    "# 保存模型\n",
    "按照横纵坐标框选范围命名"
   ],
   "id": "f6b61ca9286ed1fa"
  },
  {
   "metadata": {
    "ExecuteTime": {
     "end_time": "2024-04-29T15:23:18.839098Z",
     "start_time": "2024-04-29T15:23:18.126162Z"
    }
   },
   "cell_type": "code",
   "source": [
    "# start_x_str = str(start_x)\n",
    "# end_x_str = str(end_x)\n",
    "# start_y_str = str(start_y)\n",
    "# end_y_str = str(end_y)\n",
    "\n",
    "# 构建模型文件名\n",
    "model_filename = f'model_{start_x_str}_{end_x_str}_{start_y_str}_{end_y_str}.keras'\n",
    "\n",
    "model.save(\"D:\\workSpace\\BigDataLabs\\python_labs\\Lab3\\CNN\\model\\\\\"+model_filename)"
   ],
   "id": "b846d99ab7e5b765",
   "outputs": [],
   "execution_count": 51
  },
  {
   "metadata": {},
   "cell_type": "markdown",
   "source": "# 评估性能",
   "id": "9f5e94957a5ecffa"
  },
  {
   "metadata": {
    "ExecuteTime": {
     "end_time": "2024-04-29T14:19:08.311419Z",
     "start_time": "2024-04-29T14:19:06.829965Z"
    }
   },
   "cell_type": "code",
   "source": [
    "# 评估模型\n",
    "loss = model.evaluate(X_test, Y_test, verbose=0)\n",
    "print(f\"Test loss: {loss}\")"
   ],
   "id": "29bc783fcc40e681",
   "outputs": [
    {
     "name": "stdout",
     "output_type": "stream",
     "text": [
      "Test loss: 1712.1185302734375\n"
     ]
    }
   ],
   "execution_count": 43
  },
  {
   "cell_type": "markdown",
   "source": [
    "# 模型预测"
   ],
   "metadata": {
    "collapsed": false
   },
   "id": "df21f2abab4a6d7e"
  },
  {
   "cell_type": "code",
   "source": [
    "# 使用模型进行预测\n",
    "predictions = model.predict(X_test)"
   ],
   "metadata": {
    "collapsed": false,
    "ExecuteTime": {
     "end_time": "2024-04-29T14:19:13.458691Z",
     "start_time": "2024-04-29T14:19:11.868571Z"
    }
   },
   "id": "84f04a65300e4c39",
   "outputs": [
    {
     "name": "stdout",
     "output_type": "stream",
     "text": [
      "84/84 [==============================] - 1s 15ms/step\n"
     ]
    }
   ],
   "execution_count": 44
  },
  {
   "metadata": {},
   "cell_type": "markdown",
   "source": [
    "# 预测值分析\n",
    "1. 计算MSE和RMSE\n",
    "2. 计算MAE\n"
   ],
   "id": "23f6456abcdb6e13"
  },
  {
   "metadata": {
    "ExecuteTime": {
     "end_time": "2024-04-29T14:25:37.050159Z",
     "start_time": "2024-04-29T14:25:37.007402Z"
    }
   },
   "cell_type": "code",
   "source": [
    "assert predictions.shape == Y_test.shape, \"确保 predictions 和 Y_test 的形状相同\"\n",
    "\n",
    "# 计算MSE\n",
    "mse = np.mean((predictions - Y_test) ** 2)\n",
    "\n",
    "# 计算RMSE\n",
    "rmse = np.sqrt(mse)\n",
    "\n",
    "print(f'MSE: {mse}')\n",
    "print(f'RMSE: {rmse}')"
   ],
   "id": "c44533238fa72b2b",
   "outputs": [
    {
     "name": "stdout",
     "output_type": "stream",
     "text": [
      "MSE: 1712.118328679945\n",
      "RMSE: 41.37775161460498\n"
     ]
    }
   ],
   "execution_count": 48
  }
 ],
 "metadata": {
  "kernelspec": {
   "display_name": "Python 3",
   "language": "python",
   "name": "python3"
  },
  "language_info": {
   "codemirror_mode": {
    "name": "ipython",
    "version": 2
   },
   "file_extension": ".py",
   "mimetype": "text/x-python",
   "name": "python",
   "nbconvert_exporter": "python",
   "pygments_lexer": "ipython2",
   "version": "2.7.6"
  }
 },
 "nbformat": 4,
 "nbformat_minor": 5
}
