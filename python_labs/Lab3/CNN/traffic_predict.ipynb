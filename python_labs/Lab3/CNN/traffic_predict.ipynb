{
 "cells": [
  {
   "cell_type": "markdown",
   "source": [
    "# 加载配置文件\n",
    "config/predict_config.json"
   ],
   "metadata": {
    "collapsed": false
   },
   "id": "14e814dafa82d717"
  },
  {
   "cell_type": "code",
   "source": [
    "pre_con_path = 'config/predict_config.json'\n",
    "\n",
    "import json\n",
    "\n",
    "# 打开一个JSON文件\n",
    "with open(pre_con_path, 'r', encoding='utf-8') as file:\n",
    "    # 将文件内容转换为Python字典\n",
    "    paths = json.load(file)\n",
    "\n",
    "# print(paths)"
   ],
   "metadata": {
    "collapsed": false,
    "ExecuteTime": {
     "end_time": "2024-05-26T12:58:42.868574Z",
     "start_time": "2024-05-26T12:58:42.862651Z"
    }
   },
   "id": "fb9750c01b87ea0d",
   "outputs": [],
   "execution_count": 15
  },
  {
   "cell_type": "markdown",
   "source": [
    "# 加载数据集\n",
    "路径:C:\\Users\\Administrator\\Desktop\\college\\junior2\\工业大数据\\实验\\lab1\\data\\all_data_ct_10M.h5"
   ],
   "metadata": {
    "collapsed": false
   },
   "id": "efbcacf95c9fb878"
  },
  {
   "cell_type": "code",
   "source": [
    "import os.path\n",
    "\n",
    "data_path = paths['data_path']\n",
    "\n",
    "from h5Reader.readHdf5 import readH5\n",
    "\n",
    "data,idx = readH5(data_path,datasets=['data','idx'])"
   ],
   "metadata": {
    "collapsed": false,
    "ExecuteTime": {
     "end_time": "2024-05-26T12:39:26.109107Z",
     "start_time": "2024-05-26T12:37:51.240918Z"
    }
   },
   "id": "95f774dfb118d892",
   "outputs": [],
   "execution_count": 2
  },
  {
   "cell_type": "markdown",
   "source": [
    "# 获取数据集原始形状\n",
    "8928*10000*5"
   ],
   "metadata": {
    "collapsed": false
   },
   "id": "41b221fa2bd3b101"
  },
  {
   "cell_type": "code",
   "source": [
    "# 原始数据集\n",
    "data_shape = data.shape\n",
    "num_timePoints = data_shape[0]\n",
    "num_districts = data_shape[1]\n",
    "num_business = data_shape[2]\n",
    "\n",
    "print(\"时间点数量:%d,小区数量:%d,流量业务类型数量:%d\" %(num_timePoints,num_districts,num_business))"
   ],
   "metadata": {
    "collapsed": false,
    "ExecuteTime": {
     "end_time": "2024-05-26T12:41:07.448801Z",
     "start_time": "2024-05-26T12:41:07.391685Z"
    }
   },
   "id": "132c926e5e55fb2f",
   "outputs": [
    {
     "name": "stdout",
     "output_type": "stream",
     "text": [
      "时间点数量:8928,小区数量:10000,流量业务类型数量:5\n"
     ]
    }
   ],
   "execution_count": 3
  },
  {
   "metadata": {},
   "cell_type": "markdown",
   "source": [
    "# 根据二维地区索引重塑原始数据集\n",
    "我们要先把(8928,10000,5)的数据集重塑为(8928,100,100,5)的形状\n",
    "坐标映射的方式为：index -> ( index//100,index%100 )"
   ],
   "id": "e200954c995b3dc7"
  },
  {
   "metadata": {
    "ExecuteTime": {
     "end_time": "2024-05-26T12:55:23.667035Z",
     "start_time": "2024-05-26T12:55:23.597651Z"
    }
   },
   "cell_type": "code",
   "source": [
    "import math\n",
    "import numpy as np\n",
    "\n",
    "def cor_map(data_set):\n",
    "    size = int(math.sqrt(num_districts))\n",
    "    \n",
    "    res = np.zeros((num_timePoints,size,size,num_business),dtype=np.float64)\n",
    "    for i in range(num_timePoints):\n",
    "        for j in range(num_districts):\n",
    "            x = j//size\n",
    "            y = j%size\n",
    "            for k in range(num_business):\n",
    "                res[i,x,y,k] = data_set[i,j,k]\n",
    "    \n",
    "    return res\n",
    "\n",
    "data = cor_map(data)\n",
    "\n",
    "def print_dim(data_set):\n",
    "    print(\"时间点数量:%d,行索引数量:%d,列索引数量:%d,流量业务类型数量:%d\" %(data_set.shape[0],data_set.shape[1],data_set.shape[2],data_set.shape[3]))\n",
    "\n",
    "print_dim(data)"
   ],
   "id": "662aa43c4d22d807",
   "outputs": [
    {
     "ename": "ValueError",
     "evalue": "setting an array element with a sequence.",
     "output_type": "error",
     "traceback": [
      "\u001B[1;31m---------------------------------------------------------------------------\u001B[0m",
      "\u001B[1;31mTypeError\u001B[0m                                 Traceback (most recent call last)",
      "\u001B[1;31mTypeError\u001B[0m: only size-1 arrays can be converted to Python scalars",
      "\nThe above exception was the direct cause of the following exception:\n",
      "\u001B[1;31mValueError\u001B[0m                                Traceback (most recent call last)",
      "Cell \u001B[1;32mIn[9], line 17\u001B[0m\n\u001B[0;32m     13\u001B[0m                 res[i,x,y,k] \u001B[38;5;241m=\u001B[39m data_set[i,j,k]\n\u001B[0;32m     15\u001B[0m     \u001B[38;5;28;01mreturn\u001B[39;00m res\n\u001B[1;32m---> 17\u001B[0m data \u001B[38;5;241m=\u001B[39m \u001B[43mcor_map\u001B[49m\u001B[43m(\u001B[49m\u001B[43mdata\u001B[49m\u001B[43m)\u001B[49m\n\u001B[0;32m     19\u001B[0m \u001B[38;5;28;01mdef\u001B[39;00m \u001B[38;5;21mprint_dim\u001B[39m(data_set):\n\u001B[0;32m     20\u001B[0m     \u001B[38;5;28mprint\u001B[39m(\u001B[38;5;124m\"\u001B[39m\u001B[38;5;124m时间点数量:\u001B[39m\u001B[38;5;132;01m%d\u001B[39;00m\u001B[38;5;124m,行索引数量:\u001B[39m\u001B[38;5;132;01m%d\u001B[39;00m\u001B[38;5;124m,列索引数量:\u001B[39m\u001B[38;5;132;01m%d\u001B[39;00m\u001B[38;5;124m,流量业务类型数量:\u001B[39m\u001B[38;5;132;01m%d\u001B[39;00m\u001B[38;5;124m\"\u001B[39m \u001B[38;5;241m%\u001B[39m(data_set\u001B[38;5;241m.\u001B[39mshape[\u001B[38;5;241m0\u001B[39m],data_set\u001B[38;5;241m.\u001B[39mshape[\u001B[38;5;241m1\u001B[39m],data_set\u001B[38;5;241m.\u001B[39mshape[\u001B[38;5;241m2\u001B[39m],data_set\u001B[38;5;241m.\u001B[39mshape[\u001B[38;5;241m3\u001B[39m]))\n",
      "Cell \u001B[1;32mIn[9], line 13\u001B[0m, in \u001B[0;36mcor_map\u001B[1;34m(data_set)\u001B[0m\n\u001B[0;32m     11\u001B[0m         y \u001B[38;5;241m=\u001B[39m j\u001B[38;5;241m%\u001B[39msize\n\u001B[0;32m     12\u001B[0m         \u001B[38;5;28;01mfor\u001B[39;00m k \u001B[38;5;129;01min\u001B[39;00m \u001B[38;5;28mrange\u001B[39m(num_business):\n\u001B[1;32m---> 13\u001B[0m             \u001B[43mres\u001B[49m\u001B[43m[\u001B[49m\u001B[43mi\u001B[49m\u001B[43m,\u001B[49m\u001B[43mx\u001B[49m\u001B[43m,\u001B[49m\u001B[43my\u001B[49m\u001B[43m,\u001B[49m\u001B[43mk\u001B[49m\u001B[43m]\u001B[49m \u001B[38;5;241m=\u001B[39m data_set[i,j,k]\n\u001B[0;32m     15\u001B[0m \u001B[38;5;28;01mreturn\u001B[39;00m res\n",
      "\u001B[1;31mValueError\u001B[0m: setting an array element with a sequence."
     ]
    }
   ],
   "execution_count": 9
  },
  {
   "metadata": {},
   "cell_type": "markdown",
   "source": [
    "# 选择划定的区域\n",
    "由于我的机器的硬件上限(内存最多8G)，而以长度为4的滑动窗口加载数据会直接在内存中塞9个G的数据，内存会爆掉。所以我只能改成选定某个区域，进行预测。\n",
    "不过理论上我这个代码是具有可扩展性的，在硬件上限较好的机器上，完全可以选定完整的100*100的区域进行训练和预测"
   ],
   "id": "54e173d3372878ee"
  },
  {
   "metadata": {
    "ExecuteTime": {
     "end_time": "2024-05-26T12:55:41.930943Z",
     "start_time": "2024-05-26T12:55:41.754153Z"
    }
   },
   "cell_type": "code",
   "source": [
    "def select_region(sx,ex,sy,ey,data_set):\n",
    "    m = ex-sx+1\n",
    "    n = ey-sy+1\n",
    "    res = np.zeros((num_timePoints,m,n,num_business),dtype=np.float64)\n",
    "    # print(res.shape)\n",
    "    for i in range(num_timePoints):\n",
    "        for j in range(m):\n",
    "            for k in range(n):\n",
    "                for l in range(num_business):\n",
    "                    res[i,j,k,l] = data_set[i,ex+j,ey+k,l]\n",
    "    return res\n",
    "\n",
    "# 以5045小区为中心\n",
    "start_x = 46\n",
    "end_x = 55\n",
    "start_y = 40\n",
    "end_y = 49\n",
    "\n",
    "len_x = end_x-start_x+1\n",
    "len_y = end_y-start_y+1\n",
    "\n",
    "data = select_region(start_x,end_x,start_y,end_y,data)\n",
    "print_dim(data)"
   ],
   "id": "6368dc8a59464d4a",
   "outputs": [
    {
     "name": "stdout",
     "output_type": "stream",
     "text": [
      "时间点数量:8928,行索引数量:10,列索引数量:10,流量业务类型数量:5\n"
     ]
    },
    {
     "ename": "IndexError",
     "evalue": "index 46 is out of bounds for axis 1 with size 10",
     "output_type": "error",
     "traceback": [
      "\u001B[1;31m---------------------------------------------------------------------------\u001B[0m",
      "\u001B[1;31mIndexError\u001B[0m                                Traceback (most recent call last)",
      "Cell \u001B[1;32mIn[10], line 23\u001B[0m\n\u001B[0;32m     20\u001B[0m len_y \u001B[38;5;241m=\u001B[39m end_y\u001B[38;5;241m-\u001B[39mstart_y\u001B[38;5;241m+\u001B[39m\u001B[38;5;241m1\u001B[39m\n\u001B[0;32m     22\u001B[0m print_dim(data)\n\u001B[1;32m---> 23\u001B[0m data \u001B[38;5;241m=\u001B[39m \u001B[43mselect_region\u001B[49m\u001B[43m(\u001B[49m\u001B[43mstart_x\u001B[49m\u001B[43m,\u001B[49m\u001B[43mend_x\u001B[49m\u001B[43m,\u001B[49m\u001B[43mstart_y\u001B[49m\u001B[43m,\u001B[49m\u001B[43mend_y\u001B[49m\u001B[43m,\u001B[49m\u001B[43mdata\u001B[49m\u001B[43m)\u001B[49m\n\u001B[0;32m     24\u001B[0m print_dim(data)\n",
      "Cell \u001B[1;32mIn[10], line 10\u001B[0m, in \u001B[0;36mselect_region\u001B[1;34m(sx, ex, sy, ey, data_set)\u001B[0m\n\u001B[0;32m      8\u001B[0m         \u001B[38;5;28;01mfor\u001B[39;00m k \u001B[38;5;129;01min\u001B[39;00m \u001B[38;5;28mrange\u001B[39m(n):\n\u001B[0;32m      9\u001B[0m             \u001B[38;5;28;01mfor\u001B[39;00m l \u001B[38;5;129;01min\u001B[39;00m \u001B[38;5;28mrange\u001B[39m(num_business):\n\u001B[1;32m---> 10\u001B[0m                 res[i,j,k,l] \u001B[38;5;241m=\u001B[39m \u001B[43mdata_set\u001B[49m\u001B[43m[\u001B[49m\u001B[43mi\u001B[49m\u001B[43m,\u001B[49m\u001B[43msx\u001B[49m\u001B[38;5;241;43m+\u001B[39;49m\u001B[43mj\u001B[49m\u001B[43m,\u001B[49m\u001B[43msy\u001B[49m\u001B[38;5;241;43m+\u001B[39;49m\u001B[43mk\u001B[49m\u001B[43m,\u001B[49m\u001B[43ml\u001B[49m\u001B[43m]\u001B[49m\n\u001B[0;32m     11\u001B[0m \u001B[38;5;28;01mreturn\u001B[39;00m res\n",
      "\u001B[1;31mIndexError\u001B[0m: index 46 is out of bounds for axis 1 with size 10"
     ]
    }
   ],
   "execution_count": 10
  },
  {
   "cell_type": "markdown",
   "source": [
    "# 划分数据集\n",
    "按0.7的比重划分，总计8928个时间点，也即8928*0.8=6249.59≈6250条数据"
   ],
   "metadata": {
    "collapsed": false
   },
   "id": "e0fe5975f43337c4"
  },
  {
   "cell_type": "code",
   "source": [
    "seperator_index = int(np.round((num_timePoints*0.7)))\n",
    "#print(seperator_index)\n",
    "\n",
    "train_set = data[0:seperator_index,:,:]\n",
    "test_set = data[seperator_index:num_timePoints,:,:]\n",
    "print(train_set.shape,test_set.shape)"
   ],
   "metadata": {
    "collapsed": false,
    "ExecuteTime": {
     "end_time": "2024-05-26T12:57:29.991565Z",
     "start_time": "2024-05-26T12:57:29.978794Z"
    }
   },
   "id": "2cc63d7791f3950b",
   "outputs": [
    {
     "name": "stdout",
     "output_type": "stream",
     "text": [
      "(6250, 10, 10, 5) (2678, 10, 10, 5)\n"
     ]
    }
   ],
   "execution_count": 11
  },
  {
   "cell_type": "markdown",
   "source": [
    "# 构造输入输出序列\n",
    "CNN希望接收的参数格式: ( batch_size, time_steps, features )\n",
    "放到这个例子中就是( 样本数量, 时间步长, 特征数量 )\n",
    "假设我们的时间序列的滑动窗口大小为4,构建输入输出序列"
   ],
   "metadata": {
    "collapsed": false
   },
   "id": "cb09e9de62a8e4fc"
  },
  {
   "cell_type": "code",
   "source": [
    "def restructure(set, win_size):\n",
    "    x_seq,y_seq = [],[]\n",
    "    shape = set.shape\n",
    "    tps = shape[0]\n",
    "    \n",
    "    for i in range(win_size,tps):\n",
    "        x_seq.append(set[i-win_size:i,:,:,:])\n",
    "        y_seq.append(set[i,:,:,:])\n",
    "    \n",
    "    x_seq = np.array(x_seq)\n",
    "    y_seq = np.array(y_seq)\n",
    "    return x_seq,y_seq\n",
    "\n",
    "window_size = 4\n",
    "X_train,Y_train = restructure(train_set,window_size)\n",
    "X_test,Y_test = restructure(test_set,window_size)"
   ],
   "metadata": {
    "collapsed": false,
    "ExecuteTime": {
     "end_time": "2024-05-26T12:57:34.140530Z",
     "start_time": "2024-05-26T12:57:33.912674Z"
    }
   },
   "id": "8168a4add36c048",
   "outputs": [],
   "execution_count": 12
  },
  {
   "metadata": {},
   "cell_type": "markdown",
   "source": [
    "此时\n",
    "X=(train_tps-window_size,window_size,size,size,train_business)\n",
    "Y=(train_tps-window_size,size,size,train_business)"
   ],
   "id": "8f0b588f3dcde963"
  },
  {
   "metadata": {
    "ExecuteTime": {
     "end_time": "2024-05-26T12:57:38.722034Z",
     "start_time": "2024-05-26T12:57:38.714543Z"
    }
   },
   "cell_type": "code",
   "source": [
    "print(X_train.shape,Y_train.shape)\n",
    "print(X_test.shape,Y_test.shape)\n",
    "print(train_set.shape,test_set.shape)"
   ],
   "id": "b6cf97950cbea92b",
   "outputs": [
    {
     "name": "stdout",
     "output_type": "stream",
     "text": [
      "(6246, 4, 10, 10, 5) (6246, 10, 10, 5)\n",
      "(2674, 4, 10, 10, 5) (2674, 10, 10, 5)\n",
      "(6250, 10, 10, 5) (2678, 10, 10, 5)\n"
     ]
    }
   ],
   "execution_count": 13
  },
  {
   "metadata": {},
   "cell_type": "markdown",
   "source": [
    "# 保存训练集和测试集"
   ],
   "id": "2bb35953f2fdf92f"
  },
  {
   "metadata": {
    "ExecuteTime": {
     "end_time": "2024-05-26T12:58:49.617690Z",
     "start_time": "2024-05-26T12:58:46.684333Z"
    }
   },
   "cell_type": "code",
   "source": [
    "import h5py\n",
    "import os\n",
    "def save_data(file_path:str,file_name:str):\n",
    "    with h5py.File(os.path.join(file_path,file_name),'w') as file:\n",
    "        file.create_dataset('X_train',data=X_train)\n",
    "        file.create_dataset('Y_train',data=Y_train)\n",
    "        file.create_dataset('X_test',data=X_test)\n",
    "        file.create_dataset('Y_test',data=Y_test)\n",
    "    \n",
    "start_x_str = str(start_x)\n",
    "end_x_str = str(end_x)\n",
    "start_y_str = str(start_y)\n",
    "end_y_str = str(end_y)\n",
    "\n",
    "file_name_str =  f'Dataset_{start_x_str}_{end_x_str}_{start_y_str}_{end_y_str}.h5'\n",
    "restructure_data_path = paths['restructure_data_path']\n",
    "save_data(restructure_data_path,file_name_str)"
   ],
   "id": "f25de1e4d9a2358c",
   "outputs": [],
   "execution_count": 16
  },
  {
   "cell_type": "markdown",
   "source": [
    "\n",
    "# 构建CNN网络模型\n",
    "卷积层(32卷积核大小为3)+最大池化层+全连接层+输出层(线性激活函数)"
   ],
   "metadata": {
    "collapsed": false
   },
   "id": "53345b733b769454"
  },
  {
   "cell_type": "code",
   "source": [
    "print(\"窗口大小:%d,lenX:%d,lenY:%d,channel:%d\\n\" %(window_size,len_x,len_y,num_business))\n",
    "\n",
    "import tensorflow as tf\n",
    "Conv3D = tf.keras.layers.Conv3D\n",
    "MaxPooling3D = tf.keras.layers.MaxPooling3D\n",
    "Flatten = tf.keras.layers.Flatten\n",
    "Dense = tf.keras.layers.Dense\n",
    "#from tensorflow.keras.layers import Conv3D, MaxPooling3D, Flatten, Dense\n",
    "\n",
    "input_shape = (window_size,len_x,len_y,num_business)\n",
    "\n",
    "model = tf.keras.Sequential([\n",
    "    # 第一个卷积层，使用32个3D卷积核，大小为3x3x3\n",
    "    Conv3D(32, kernel_size=(3, 3, 3), activation='relu', input_shape=input_shape, padding='same'),\n",
    "    # 池化层，使用2x2x2的池化核，但可能需要调整以避免尺寸问题\n",
    "    MaxPooling3D(pool_size=(2, 2, 2)),\n",
    "    # 第二个卷积层，使用64个3D卷积核\n",
    "    Conv3D(64, kernel_size=(3, 3, 3), activation='relu', padding='same'),\n",
    "    # 另一个池化层，可能需要调整以避免尺寸问题\n",
    "    MaxPooling3D(pool_size=(2, 2, 2)),\n",
    "    # 将3D卷积层的输出展平为1D\n",
    "    Flatten(),\n",
    "    # 一个全连接层\n",
    "    Dense(128, activation='relu'),\n",
    "    # 输出层\n",
    "    Dense(len_x*len_y*num_business),\n",
    "    tf.keras.layers.Reshape((len_x,len_y,num_business))\n",
    "])\n",
    "\n",
    "# 编译模型\n",
    "model.compile(optimizer='adam', loss='mean_squared_error')\n",
    "\n",
    "# 打印模型摘要\n",
    "model.summary()"
   ],
   "metadata": {
    "collapsed": false,
    "ExecuteTime": {
     "end_time": "2024-05-26T12:59:07.045825Z",
     "start_time": "2024-05-26T12:58:51.643980Z"
    }
   },
   "id": "87b743a4db6eae3a",
   "outputs": [
    {
     "name": "stdout",
     "output_type": "stream",
     "text": [
      "窗口大小:4,lenX:10,lenY:10,channel:5\n",
      "\n",
      "Model: \"sequential\"\n",
      "_________________________________________________________________\n",
      " Layer (type)                Output Shape              Param #   \n",
      "=================================================================\n",
      " conv3d (Conv3D)             (None, 4, 10, 10, 32)     4352      \n",
      "                                                                 \n",
      " max_pooling3d (MaxPooling3  (None, 2, 5, 5, 32)       0         \n",
      " D)                                                              \n",
      "                                                                 \n",
      " conv3d_1 (Conv3D)           (None, 2, 5, 5, 64)       55360     \n",
      "                                                                 \n",
      " max_pooling3d_1 (MaxPoolin  (None, 1, 2, 2, 64)       0         \n",
      " g3D)                                                            \n",
      "                                                                 \n",
      " flatten (Flatten)           (None, 256)               0         \n",
      "                                                                 \n",
      " dense (Dense)               (None, 128)               32896     \n",
      "                                                                 \n",
      " dense_1 (Dense)             (None, 500)               64500     \n",
      "                                                                 \n",
      " reshape (Reshape)           (None, 10, 10, 5)         0         \n",
      "                                                                 \n",
      "=================================================================\n",
      "Total params: 157108 (613.70 KB)\n",
      "Trainable params: 157108 (613.70 KB)\n",
      "Non-trainable params: 0 (0.00 Byte)\n",
      "_________________________________________________________________\n"
     ]
    }
   ],
   "execution_count": 17
  },
  {
   "cell_type": "markdown",
   "source": [
    "# 训练模型\n",
    "1. 加入早停机制\n",
    "2. 训练模型\n",
    "3. 绘制epoch-loss图像"
   ],
   "metadata": {
    "collapsed": false
   },
   "id": "c0f0c5add0278f8d"
  },
  {
   "metadata": {
    "ExecuteTime": {
     "end_time": "2024-05-26T12:59:19.788640Z",
     "start_time": "2024-05-26T12:59:19.777922Z"
    }
   },
   "cell_type": "code",
   "source": [
    "from tensorflow.keras.callbacks import EarlyStopping\n",
    "\n",
    "# 初始化 EarlyStopping 回调\n",
    "early_stopping = EarlyStopping(\n",
    "    monitor='val_loss',  # 监控的指标\n",
    "    patience=3,          # 允许的没有改善的 epoch 数量\n",
    "    verbose=1,           # 详细模式，输出早停信息\n",
    "    restore_best_weights=True  # 恢复到最佳的模型权重\n",
    ")"
   ],
   "id": "1124c947f30143a9",
   "outputs": [],
   "execution_count": 18
  },
  {
   "cell_type": "code",
   "source": "history = model.fit(X_train, Y_train, epochs=100, batch_size=32, validation_split=0.2, verbose=1,callbacks=[early_stopping])",
   "metadata": {
    "collapsed": false,
    "ExecuteTime": {
     "end_time": "2024-05-26T13:08:46.633294Z",
     "start_time": "2024-05-26T12:59:51.636691Z"
    }
   },
   "id": "22a79e5a2b866922",
   "outputs": [
    {
     "name": "stdout",
     "output_type": "stream",
     "text": [
      "Epoch 1/100\n",
      "157/157 [==============================] - 26s 163ms/step - loss: 2151.6733 - val_loss: 4091.1189\n",
      "Epoch 2/100\n",
      "157/157 [==============================] - 23s 147ms/step - loss: 1665.6847 - val_loss: 2718.9888\n",
      "Epoch 3/100\n",
      "157/157 [==============================] - 26s 168ms/step - loss: 1416.7592 - val_loss: 2471.0388\n",
      "Epoch 4/100\n",
      "157/157 [==============================] - 27s 171ms/step - loss: 1323.8486 - val_loss: 2637.2361\n",
      "Epoch 5/100\n",
      "157/157 [==============================] - 26s 168ms/step - loss: 1283.4860 - val_loss: 2110.8838\n",
      "Epoch 6/100\n",
      "157/157 [==============================] - 25s 156ms/step - loss: 1243.3024 - val_loss: 1921.7836\n",
      "Epoch 7/100\n",
      "157/157 [==============================] - 24s 151ms/step - loss: 1186.0325 - val_loss: 2013.1870\n",
      "Epoch 8/100\n",
      "157/157 [==============================] - 26s 166ms/step - loss: 1139.2723 - val_loss: 1769.3365\n",
      "Epoch 9/100\n",
      "157/157 [==============================] - 26s 165ms/step - loss: 1110.9937 - val_loss: 1648.3468\n",
      "Epoch 10/100\n",
      "157/157 [==============================] - 26s 165ms/step - loss: 1067.3873 - val_loss: 1692.7830\n",
      "Epoch 11/100\n",
      "157/157 [==============================] - 26s 167ms/step - loss: 1044.8068 - val_loss: 1600.3029\n",
      "Epoch 12/100\n",
      "157/157 [==============================] - 29s 188ms/step - loss: 1023.5906 - val_loss: 1547.8304\n",
      "Epoch 13/100\n",
      "157/157 [==============================] - 26s 165ms/step - loss: 1025.4397 - val_loss: 1523.9796\n",
      "Epoch 14/100\n",
      "157/157 [==============================] - 25s 156ms/step - loss: 991.5079 - val_loss: 1524.1104\n",
      "Epoch 15/100\n",
      "157/157 [==============================] - 25s 160ms/step - loss: 980.6342 - val_loss: 1494.0251\n",
      "Epoch 16/100\n",
      "157/157 [==============================] - 25s 158ms/step - loss: 981.7020 - val_loss: 1465.6832\n",
      "Epoch 17/100\n",
      "157/157 [==============================] - 27s 171ms/step - loss: 975.1374 - val_loss: 1517.2233\n",
      "Epoch 18/100\n",
      "157/157 [==============================] - 23s 149ms/step - loss: 963.1613 - val_loss: 1418.1978\n",
      "Epoch 19/100\n",
      "157/157 [==============================] - 27s 171ms/step - loss: 946.8268 - val_loss: 1436.0933\n",
      "Epoch 20/100\n",
      "157/157 [==============================] - 23s 144ms/step - loss: 955.5375 - val_loss: 1433.7278\n",
      "Epoch 21/100\n",
      "156/157 [============================>.] - ETA: 0s - loss: 952.6791Restoring model weights from the end of the best epoch: 18.\n",
      "157/157 [==============================] - 24s 153ms/step - loss: 952.8401 - val_loss: 1501.8909\n",
      "Epoch 21: early stopping\n"
     ]
    }
   ],
   "execution_count": 20
  },
  {
   "metadata": {
    "ExecuteTime": {
     "end_time": "2024-05-26T13:09:24.289190Z",
     "start_time": "2024-05-26T13:09:20.791715Z"
    }
   },
   "cell_type": "code",
   "source": [
    "import matplotlib.pyplot as plt\n",
    "plt.plot(history.history['loss'], label='train_loss')\n",
    "plt.plot(history.history['val_loss'], label='val_loss')\n",
    "plt.title('Model Loss')\n",
    "plt.ylabel('Loss')\n",
    "plt.xlabel('Epoch')\n",
    "plt.legend(loc='upper right')\n",
    "plt.show()"
   ],
   "id": "aa1eeb06e192e064",
   "outputs": [
    {
     "data": {
      "text/plain": [
       "<Figure size 640x480 with 1 Axes>"
      ],
      "image/png": "[encoded data removed]"
     },
     "metadata": {},
     "output_type": "display_data"
    }
   ],
   "execution_count": 21
  },
  {
   "metadata": {},
   "cell_type": "markdown",
   "source": [
    "# 保存模型\n",
    "按照横纵坐标框选范围命名"
   ],
   "id": "f6b61ca9286ed1fa"
  },
  {
   "metadata": {
    "ExecuteTime": {
     "end_time": "2024-05-26T13:09:53.367822Z",
     "start_time": "2024-05-26T13:09:53.000980Z"
    }
   },
   "cell_type": "code",
   "source": [
    "# start_x_str = str(start_x)\n",
    "# end_x_str = str(end_x)\n",
    "# start_y_str = str(start_y)\n",
    "# end_y_str = str(end_y)\n",
    "\n",
    "# 构建模型文件名\n",
    "model_filename = f'model_{start_x_str}_{end_x_str}_{start_y_str}_{end_y_str}.keras'\n",
    "\n",
    "model_path = paths['model_path']\n",
    "model.save(os.path.join(model_path,model_filename))"
   ],
   "id": "b846d99ab7e5b765",
   "outputs": [],
   "execution_count": 22
  },
  {
   "metadata": {},
   "cell_type": "markdown",
   "source": [
    "# 评估性能"
   ],
   "id": "9f5e94957a5ecffa"
  },
  {
   "metadata": {
    "ExecuteTime": {
     "end_time": "2024-05-26T13:10:11.409260Z",
     "start_time": "2024-05-26T13:10:06.902785Z"
    }
   },
   "cell_type": "code",
   "source": [
    "# 评估模型\n",
    "loss = model.evaluate(X_test, Y_test, verbose=1)\n",
    "print(f\"Test loss: {loss}\")"
   ],
   "id": "29bc783fcc40e681",
   "outputs": [
    {
     "name": "stdout",
     "output_type": "stream",
     "text": [
      "84/84 [==============================] - 2s 21ms/step - loss: 1361.7981\n",
      "Test loss: 1361.798095703125\n"
     ]
    }
   ],
   "execution_count": 23
  },
  {
   "cell_type": "markdown",
   "source": [
    "# 模型预测"
   ],
   "metadata": {
    "collapsed": false
   },
   "id": "df21f2abab4a6d7e"
  },
  {
   "cell_type": "code",
   "source": [
    "# 使用模型进行预测\n",
    "predictions = model.predict(X_test)"
   ],
   "metadata": {
    "collapsed": false,
    "ExecuteTime": {
     "end_time": "2024-05-26T13:10:46.374681Z",
     "start_time": "2024-05-26T13:10:44.125029Z"
    }
   },
   "id": "84f04a65300e4c39",
   "outputs": [
    {
     "name": "stdout",
     "output_type": "stream",
     "text": [
      "84/84 [==============================] - 2s 18ms/step\n"
     ]
    }
   ],
   "execution_count": 24
  },
  {
   "metadata": {},
   "cell_type": "markdown",
   "source": [
    "# 预测值分析\n",
    "1. 计算MSE和RMSE\n",
    "2. 计算MAE\n"
   ],
   "id": "23f6456abcdb6e13"
  },
  {
   "metadata": {
    "ExecuteTime": {
     "end_time": "2024-05-26T13:10:48.966914Z",
     "start_time": "2024-05-26T13:10:48.900332Z"
    }
   },
   "cell_type": "code",
   "source": [
    "assert predictions.shape == Y_test.shape, \"确保 predictions 和 Y_test 的形状相同\"\n",
    "\n",
    "# 计算MSE\n",
    "mse = np.mean((predictions - Y_test) ** 2)\n",
    "\n",
    "# 计算RMSE\n",
    "rmse = np.sqrt(mse)\n",
    "\n",
    "# 计算MAE\n",
    "mae = np.mean(np.abs(predictions - Y_test))\n",
    "\n",
    "print(f'MAE: {mae}')\n",
    "print(f'MSE: {mse}')\n",
    "print(f'RMSE: {rmse}')"
   ],
   "id": "c44533238fa72b2b",
   "outputs": [
    {
     "name": "stdout",
     "output_type": "stream",
     "text": [
      "MAE: 16.309743063784293\n",
      "MSE: 1361.798195288669\n",
      "RMSE: 36.90254998355356\n"
     ]
    }
   ],
   "execution_count": 25
  }
 ],
 "metadata": {
  "kernelspec": {
   "display_name": "Python 3",
   "language": "python",
   "name": "python3"
  },
  "language_info": {
   "codemirror_mode": {
    "name": "ipython",
    "version": 2
   },
   "file_extension": ".py",
   "mimetype": "text/x-python",
   "name": "python",
   "nbconvert_exporter": "python",
   "pygments_lexer": "ipython2",
   "version": "2.7.6"
  }
 },
 "nbformat": 4,
 "nbformat_minor": 5
}
