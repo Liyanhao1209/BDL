{
 "cells": [
  {
   "cell_type": "markdown",
   "source": [
    "# 加载数据集\n",
    "路径:C:\\Users\\Administrator\\Desktop\\college\\junior2\\工业大数据\\实验\\lab1\\data\\all_data_ct_10M.h5"
   ],
   "metadata": {
    "collapsed": false
   },
   "id": "fbd1dc9d307e7027"
  },
  {
   "cell_type": "code",
   "execution_count": 1,
   "outputs": [],
   "source": [
    "data_path = 'C:\\\\Users\\\\Administrator\\\\Desktop\\\\college\\\\junior2\\\\工业大数据\\\\实验\\\\lab1\\\\data\\\\all_data_ct_10M.h5'\n",
    "\n",
    "from h5Reader.readHdf5 import readH5\n",
    "\n",
    "data,idx = readH5(data_path,datasets=['data','idx'])"
   ],
   "metadata": {
    "collapsed": false,
    "ExecuteTime": {
     "end_time": "2024-04-29T07:03:29.796117900Z",
     "start_time": "2024-04-29T07:02:12.229225700Z"
    }
   },
   "id": "95f774dfb118d892"
  },
  {
   "cell_type": "markdown",
   "source": [
    "# 获取数据集原始形状\n",
    "8928*10000*5"
   ],
   "metadata": {
    "collapsed": false
   },
   "id": "41b221fa2bd3b101"
  },
  {
   "cell_type": "code",
   "execution_count": 6,
   "outputs": [
    {
     "name": "stdout",
     "output_type": "stream",
     "text": [
      "时间点数量:8928,小区数量:10000,流量业务类型数量:5\n"
     ]
    }
   ],
   "source": [
    "# 原始数据集\n",
    "data_shape = data.shape\n",
    "num_timePoints = data_shape[0]\n",
    "num_districts = data_shape[1]\n",
    "num_business = data_shape[2]\n",
    "\n",
    "print(\"时间点数量:%d,小区数量:%d,流量业务类型数量:%d\" %(num_timePoints,num_districts,num_business))"
   ],
   "metadata": {
    "collapsed": false,
    "ExecuteTime": {
     "end_time": "2024-04-29T07:08:38.442002700Z",
     "start_time": "2024-04-29T07:08:38.388094100Z"
    }
   },
   "id": "132c926e5e55fb2f"
  },
  {
   "cell_type": "markdown",
   "source": [
    "# 划分数据集\n",
    "按0.7的比重划分，总计8928个时间点，也即8928*0.8=6249.59≈6250条数据"
   ],
   "metadata": {
    "collapsed": false
   },
   "id": "e0fe5975f43337c4"
  },
  {
   "cell_type": "code",
   "execution_count": 10,
   "outputs": [
    {
     "name": "stdout",
     "output_type": "stream",
     "text": [
      "(6250, 10000, 5) (2678, 10000, 5)\n"
     ]
    }
   ],
   "source": [
    "import numpy as np\n",
    "seperator_index = int(np.round((num_timePoints*0.7)))\n",
    "#print(seperator_index)\n",
    "\n",
    "train_set = data[0:seperator_index,:,:]\n",
    "test_set = data[seperator_index:num_timePoints,:,:]\n",
    "# print(train_set.shape,test_set.shape)"
   ],
   "metadata": {
    "collapsed": false,
    "ExecuteTime": {
     "end_time": "2024-04-29T07:14:16.906426500Z",
     "start_time": "2024-04-29T07:14:16.876670500Z"
    }
   },
   "id": "2cc63d7791f3950b"
  },
  {
   "cell_type": "markdown",
   "source": [
    "# 构造输入输出序列\n",
    "CNN希望接收的参数格式: ( batch_size, time_steps, features )\n",
    "放到这个例子中就是( 样本数量, 时间步长, 特征数量 )\n",
    "假设我们的时间序列的滑动窗口大小为4,构建输入输出序列"
   ],
   "metadata": {
    "collapsed": false
   },
   "id": "cb09e9de62a8e4fc"
  },
  {
   "cell_type": "code",
   "execution_count": 13,
   "outputs": [
    {
     "ename": "IndexError",
     "evalue": "index 6250 is out of bounds for axis 0 with size 6250",
     "output_type": "error",
     "traceback": [
      "\u001B[1;31m---------------------------------------------------------------------------\u001B[0m",
      "\u001B[1;31mIndexError\u001B[0m                                Traceback (most recent call last)",
      "Cell \u001B[1;32mIn[13], line 18\u001B[0m\n\u001B[0;32m     15\u001B[0m     \u001B[38;5;28;01mreturn\u001B[39;00m X_seq,Y_seq\n\u001B[0;32m     17\u001B[0m window_size \u001B[38;5;241m=\u001B[39m \u001B[38;5;241m4\u001B[39m\n\u001B[1;32m---> 18\u001B[0m X_train,Y_train \u001B[38;5;241m=\u001B[39m \u001B[43mrestructure\u001B[49m\u001B[43m(\u001B[49m\u001B[43mtrain_set\u001B[49m\u001B[43m,\u001B[49m\u001B[43mwindow_size\u001B[49m\u001B[43m)\u001B[49m\n\u001B[0;32m     19\u001B[0m X_test,Y_test \u001B[38;5;241m=\u001B[39m restructure(test_set,window_size)\n",
      "Cell \u001B[1;32mIn[13], line 10\u001B[0m, in \u001B[0;36mrestructure\u001B[1;34m(set, win_size)\u001B[0m\n\u001B[0;32m      8\u001B[0m \u001B[38;5;28;01mfor\u001B[39;00m t \u001B[38;5;129;01min\u001B[39;00m \u001B[38;5;28mrange\u001B[39m(win_size,tps):\n\u001B[0;32m      9\u001B[0m     X_seq\u001B[38;5;241m.\u001B[39mappend(\u001B[38;5;28mset\u001B[39m[t\u001B[38;5;241m-\u001B[39mwin_size\u001B[38;5;241m+\u001B[39m\u001B[38;5;241m1\u001B[39m:t\u001B[38;5;241m+\u001B[39m\u001B[38;5;241m1\u001B[39m,:,:])\n\u001B[1;32m---> 10\u001B[0m     Y_seq\u001B[38;5;241m.\u001B[39mappend(\u001B[38;5;28;43mset\u001B[39;49m\u001B[43m[\u001B[49m\u001B[43mt\u001B[49m\u001B[38;5;241;43m+\u001B[39;49m\u001B[38;5;241;43m1\u001B[39;49m\u001B[43m,\u001B[49m\u001B[43m:\u001B[49m\u001B[43m,\u001B[49m\u001B[43m:\u001B[49m\u001B[43m]\u001B[49m)\n\u001B[0;32m     12\u001B[0m X_seq \u001B[38;5;241m=\u001B[39m np\u001B[38;5;241m.\u001B[39marray(X_seq)\u001B[38;5;241m.\u001B[39mreshape(\u001B[38;5;241m-\u001B[39m\u001B[38;5;241m1\u001B[39m,win_size,districts,business)\n\u001B[0;32m     13\u001B[0m Y_seq \u001B[38;5;241m=\u001B[39m np\u001B[38;5;241m.\u001B[39marray(Y_seq)\u001B[38;5;241m.\u001B[39mreshape(\u001B[38;5;241m-\u001B[39m\u001B[38;5;241m1\u001B[39m,districts,business)\n",
      "\u001B[1;31mIndexError\u001B[0m: index 6250 is out of bounds for axis 0 with size 6250"
     ]
    }
   ],
   "source": [
    "def restructure(set, win_size):\n",
    "    X_seq,Y_seq = [],[]\n",
    "    shape = set.shape\n",
    "    tps = shape[0]\n",
    "    districts = shape[1]\n",
    "    business = shape[2]\n",
    "    \n",
    "    for t in range(win_size,tps):\n",
    "        X_seq.append(set[t-win_size+1:t+1,:,:])\n",
    "        Y_seq.append(set[t+1,:,:])\n",
    "    \n",
    "    X_seq = np.array(X_seq).reshape(-1,win_size,districts,business)\n",
    "    Y_seq = np.array(Y_seq).reshape(-1,districts,business)\n",
    "    \n",
    "    return X_seq,Y_seq\n",
    "\n",
    "window_size = 4\n",
    "X_train,Y_train = restructure(train_set,window_size)\n",
    "X_test,Y_test = restructure(test_set,window_size)"
   ],
   "metadata": {
    "collapsed": false,
    "ExecuteTime": {
     "end_time": "2024-04-29T09:00:46.828335700Z",
     "start_time": "2024-04-29T09:00:44.807158500Z"
    }
   },
   "id": "8168a4add36c048"
  },
  {
   "cell_type": "markdown",
   "source": [
    "此时\n",
    "X=(train_tps-window_size,window_size,train_districts,train_business)\n",
    "Y=(train_tps-window_size,train_districts,train_business)\n",
    "# 构建CNN网络模型\n",
    "卷积层(32卷积核大小为3)+最大池化层+全连接层+输出层(线性激活函数)"
   ],
   "metadata": {
    "collapsed": false
   },
   "id": "53345b733b769454"
  },
  {
   "cell_type": "code",
   "execution_count": 12,
   "outputs": [
    {
     "name": "stdout",
     "output_type": "stream",
     "text": [
      "2.14.0\n"
     ]
    }
   ],
   "source": [
    "import tensorflow as tf\n",
    "#print(tf.__version__) # tensorflow版本在2.x才能使用tf.keras\n",
    "\n",
    "model = tf.keras.Sequential()\n",
    "\n",
    "# 第一个卷积层，使用32个卷积核，大小为3\n",
    "model.add(tf.keras.layers.Conv1D(filters=32, kernel_size=3, activation='relu',input_shape = (window_size,X_train.shape[3])))\n",
    "\n",
    "# 全局最大池化层\n",
    "model.add(tf.keras.layers.GlobalMaxPooling1D())\n",
    "\n",
    "# 全连接层\n",
    "model.add(tf.keras.layers.Dense(64, activation='relu'))\n",
    "\n",
    "# 输出层，使用线性激活函数进行回归预测\n",
    "model.add(tf.keras.layers.Dense(1, activation='linear'))\n",
    "\n",
    "# 编译模型\n",
    "model.compile(optimizer='adam', loss='mean_squared_error')"
   ],
   "metadata": {
    "collapsed": false,
    "ExecuteTime": {
     "end_time": "2024-04-29T07:43:02.304738100Z",
     "start_time": "2024-04-29T07:43:01.627376100Z"
    }
   },
   "id": "87b743a4db6eae3a"
  },
  {
   "cell_type": "markdown",
   "source": [
    "# 训练模型\n",
    "训练+评估性能"
   ],
   "metadata": {
    "collapsed": false
   },
   "id": "c0f0c5add0278f8d"
  },
  {
   "cell_type": "code",
   "execution_count": null,
   "outputs": [],
   "source": [
    "history = model.fit(X_train, Y_train, epochs=10, batch_size=32, validation_split=0.2, verbose=1)\n",
    "\n",
    "# 评估模型\n",
    "loss = model.evaluate(X_test, Y_test, verbose=0)\n",
    "print(f\"Test loss: {loss}\")"
   ],
   "metadata": {
    "collapsed": false
   },
   "id": "22a79e5a2b866922"
  },
  {
   "cell_type": "markdown",
   "source": [
    "# 模型预测"
   ],
   "metadata": {
    "collapsed": false
   },
   "id": "df21f2abab4a6d7e"
  },
  {
   "cell_type": "code",
   "execution_count": null,
   "outputs": [],
   "source": [
    "# 使用模型进行预测\n",
    "predictions = model.predict(X_test)"
   ],
   "metadata": {
    "collapsed": false
   },
   "id": "84f04a65300e4c39"
  }
 ],
 "metadata": {
  "kernelspec": {
   "display_name": "Python 3",
   "language": "python",
   "name": "python3"
  },
  "language_info": {
   "codemirror_mode": {
    "name": "ipython",
    "version": 2
   },
   "file_extension": ".py",
   "mimetype": "text/x-python",
   "name": "python",
   "nbconvert_exporter": "python",
   "pygments_lexer": "ipython2",
   "version": "2.7.6"
  }
 },
 "nbformat": 4,
 "nbformat_minor": 5
}
